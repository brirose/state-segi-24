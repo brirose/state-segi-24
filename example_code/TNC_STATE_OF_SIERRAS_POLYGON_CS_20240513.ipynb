{
 "cells": [
  {
   "cell_type": "code",
   "execution_count": 44,
   "metadata": {},
   "outputs": [],
   "source": [
    "# -*- coding: utf-8 -*-\n",
    "\"\"\"\n",
    "Created on Wed Jul 19 16:55:30 2023\n",
    "\n",
    "@author: maggie\n",
    "\n",
    "Updated 5/14/2024 - Charlotte Stanley\n",
    "\n",
    "\"\"\"\n",
    "\n",
    "import arcpy\n",
    "import pandas as pd\n",
    "import os"
   ]
  },
  {
   "cell_type": "code",
   "execution_count": 3,
   "metadata": {},
   "outputs": [
    {
     "data": {
      "text/plain": [
       "'\\nChanges made by Charlotte - Feb-Apr 2024\\n\\n1. Removed duplicate treatments (the same treatments that appeared in both FACTS and ITS)\\n2. Fixed forest area to start removing high severity starting one year later (keep 1999 high severity in baseline forest area)\\n3. Remove Cal Fire treatments completely\\n4. Fixed error when merging data from FACTS hazardous fuels dataset and timber harvest dataset. \\n   This had been excluding all treatments in the hazardous fuels dataset in the final treatments shapefile, undercounting total treatments. \\n5. Keep original treatment names in final shapefile\\n6. Need to manually remove select polygons from Kristen Shive (mislabeled in database)\\n'"
      ]
     },
     "execution_count": 3,
     "metadata": {},
     "output_type": "execute_result"
    }
   ],
   "source": [
    "\"\"\"\n",
    "Changes made by Charlotte - Feb-Apr 2024\n",
    "\n",
    "1. Clean up attributes of 8 separate treatment datasets - merge together\n",
    "2. ITS treatments: remove duplicate polygons\n",
    "3. Create two treatment datasets: one with and without Cal Fire data\n",
    "    a) Run two versions of script\n",
    "5. Correction: Fixed forest area to start removing high severity starting one year later (keep 1999 high severity in baseline forest area)\n",
    "6. Correction: Fixed error when merging data from FACTS hazardous fuels dataset and timber harvest dataset. \n",
    "   This had been excluding all treatments in the hazardous fuels dataset in the final treatments shapefile, undercounting total treatments. \n",
    "7. Keep original treatment names in final shapefile\n",
    "8. Remove points/lines buffer\n",
    "9. Run with new ownership data (including private timberlands)\n",
    "10. Run through 2022\n",
    "\n",
    "(CHANGE NO LONGER NEEDED) ITS treatments: manually remove select polygons from Kristen Shive (mislabeled in database) - \n",
    "(CHANGE NO LONGER NEEDED) Remove all Cal Fire treatments in ITS\n",
    "\n",
    "\"\"\"\n"
   ]
  },
  {
   "cell_type": "code",
   "execution_count": 45,
   "metadata": {},
   "outputs": [],
   "source": [
    "# Set Variables\n",
    "arcpy.env.overwriteOutput = 1\n",
    "arcpy.env.overwriteOutput = True\n",
    "arcpy.env.addOutputsToMap = False # don't add outputs to map \n"
   ]
  },
  {
   "cell_type": "markdown",
   "metadata": {},
   "source": [
    "## load data"
   ]
  },
  {
   "cell_type": "code",
   "execution_count": 46,
   "metadata": {},
   "outputs": [],
   "source": [
    "# Workspace\n",
    "datagdb = r\"N:\\Sierra_Nevada\\Projects\\State of the Sierra\\State of the Sierra\\SOS_cs.gdb\"\n",
    "ws = datagdb\n",
    "tables = datagdb\n",
    "scratch = r\"N:\\Sierra_Nevada\\Projects\\State of the Sierra\\State of the Sierra\\scratch.gdb\"\n",
    "\n",
    "# Set Workspace\n",
    "arcpy.env.workspace = ws"
   ]
  },
  {
   "cell_type": "code",
   "execution_count": 54,
   "metadata": {},
   "outputs": [],
   "source": [
    "# Load Datasets\n",
    "\n",
    "# Vegetation\n",
    "Calveg = r'N:\\Sierra_Nevada\\Projects\\State of the Sierra\\Inputs_Final_20240510\\FINAL_CALVEG_1999_Current_mrg_YPMC_diss.shp'\n",
    "\n",
    "# Treatments\n",
    "trt_blm = r'N:\\Sierra_Nevada\\Projects\\State of the Sierra\\Inputs_Final_20240510\\BLM_Treatments_SoS_2011_2023.shp'\n",
    "trt_blodgett = r'N:\\Sierra_Nevada\\Projects\\State of the Sierra\\Inputs_Final_20240510\\Blodgett_Treatments_SoS_FINAL.shp'\n",
    "trt_cf_thp = r'N:\\Sierra_Nevada\\Projects\\State of the Sierra\\Inputs_Final_20240510\\CAL_FIRE_All_THPs_SoS_FINAL.shp'\n",
    "trt_cf_rx = r'N:\\Sierra_Nevada\\Projects\\State of the Sierra\\Inputs_Final_20240510\\CAL_FIRE_Rx_SoS_FINAL.shp'\n",
    "trt_facts_hf = r'N:\\Sierra_Nevada\\Projects\\State of the Sierra\\Inputs_Final_20240510\\FACTS_HazFuel_clean_SoS_FINAL.shp'\n",
    "trt_facts_th = r'N:\\Sierra_Nevada\\Projects\\State of the Sierra\\Inputs_Final_20240510\\FACTS_TimberHarvest_cleanSoS_FINAL.shp'\n",
    "trt_its = r'N:\\Sierra_Nevada\\Projects\\State of the Sierra\\Inputs_Final_20240510\\ITS_CNRA_Other_Treatments_SoS_FINAL.shp'\n",
    "trt_nps = r'N:\\Sierra_Nevada\\Projects\\State of the Sierra\\Inputs_Final_20240510\\NPS_Treatments_2001_2022_SoS_FINAL.shp'\n",
    "trt_list = [trt_blm, trt_blodgett, trt_cf_thp, trt_cf_rx, trt_facts_hf, trt_facts_th, trt_its, trt_nps]"
   ]
  },
  {
   "cell_type": "code",
   "execution_count": 86,
   "metadata": {},
   "outputs": [],
   "source": [
    "# Severity\n",
    "all_sev = r'N:\\Sierra_Nevada\\Projects\\State of the Sierra\\Inputs_Final_20240510\\FireSeverity_2000_2022_SN_mrg.shp'"
   ]
  },
  {
   "cell_type": "code",
   "execution_count": 105,
   "metadata": {},
   "outputs": [],
   "source": [
    "# load cpad data\n",
    "# includes: CA, NV, private timber, private other, UC Berkeley forests\n",
    "cpad = r'N:\\Sierra_Nevada\\Projects\\State of the Sierra\\Inputs_Final_20240510\\Holdings_CA_NV_20240513.shp'"
   ]
  },
  {
   "cell_type": "code",
   "execution_count": 48,
   "metadata": {},
   "outputs": [],
   "source": [
    "# Set coordinate system\n",
    "arcpy.env.outputCoordinateSystem = Calveg\n",
    "\n",
    "sr_ref = arcpy.Describe(Calveg).spatialReference"
   ]
  },
  {
   "cell_type": "code",
   "execution_count": 99,
   "metadata": {},
   "outputs": [],
   "source": [
    "# Set years of interest\n",
    "lst_years = list(range(2000, 2023))"
   ]
  },
  {
   "cell_type": "markdown",
   "metadata": {
    "heading_collapsed": true
   },
   "source": [
    "## Treatment datasets clean up"
   ]
  },
  {
   "cell_type": "code",
   "execution_count": 50,
   "metadata": {
    "hidden": true
   },
   "outputs": [],
   "source": [
    "# Dictionary to map field names\n",
    "\n",
    "field_mapping_blm = {'TypeName':'Name', 'CategoryNa':'Category'}\n",
    "field_mapping_blodgett = {'treatment':'Name'}\n",
    "field_mapping_cf_thp = {'SILVI_1':'Name', 'SILVI_CAT':'Category'}\n",
    "field_mapping_cf_rx = {}\n",
    "field_mapping_facts_hf = {'ACTIVITY':'Name', 'TREATMENT_':'Category', 'ACTIVITY_C':'Code'}\n",
    "field_mapping_facts_th = {'ACTIVITY_N':'Name', 'TREATMENT_':'Category', 'ACTIVITY_2':'Code'}\n",
    "field_mapping_its = {'ACTIVITY_D':'Name', 'ACTIVITY_C':'Category'}\n",
    "field_mapping_nps = {'TreatmentT':'Name', 'TreatmentC':'Category'}"
   ]
  },
  {
   "cell_type": "code",
   "execution_count": 55,
   "metadata": {
    "hidden": true
   },
   "outputs": [
    {
     "data": {
      "text/plain": [
       "['N:\\\\Sierra_Nevada\\\\Projects\\\\State of the Sierra\\\\Inputs_Final_20240510\\\\ITS_CNRA_Other_Treatments_SoS_FINAL.shp']"
      ]
     },
     "execution_count": 55,
     "metadata": {},
     "output_type": "execute_result"
    }
   ],
   "source": [
    "trt_list = trt_list[-2:-1]\n",
    "trt_list"
   ]
  },
  {
   "cell_type": "code",
   "execution_count": 56,
   "metadata": {
    "hidden": true
   },
   "outputs": [
    {
     "name": "stdout",
     "output_type": "stream",
     "text": [
      "ITS_CNRA_Other_Treatments_SoS_FINAL\n",
      "Coordinate system correct\n",
      "Rename fields\n",
      "Field 'ACTIVITY_D' altered to 'Name'\n",
      "Field 'ACTIVITY_C' altered to 'Category'\n",
      "Delete fields\n",
      "Calculate acres\n",
      "\n",
      "\n"
     ]
    }
   ],
   "source": [
    "# for all treatment shapefiles:\n",
    "# change field names, delete extra fields, calculate acres\n",
    "\n",
    "for trt in trt_list:\n",
    "    # get name of file\n",
    "    trt_suffix = trt.split('\\\\')[-1][:-4]\n",
    "    print(trt_suffix)\n",
    "    \n",
    "    # describe spatial reference\n",
    "    sr = arcpy.Describe(trt).spatialReference\n",
    "    \n",
    "    # if coordinate system is correct\n",
    "    if sr.type == sr_ref.type:\n",
    "        print('Coordinate system correct')\n",
    "        # copy features\n",
    "        trt_copy = ws + '\\\\' + trt_suffix\n",
    "        arcpy.management.CopyFeatures(trt, trt_copy)\n",
    "    \n",
    "    # if coordinate system is not correct\n",
    "    else: \n",
    "        print('Reproject coordinate system')\n",
    "        # reproject features\n",
    "        trt_copy = ws + '\\\\' + trt_suffix\n",
    "        arcpy.Project_management(trt, trt_copy, sr_ref)\n",
    "    \n",
    "    # for all new fcs\n",
    "    \n",
    "    # set field_mapping dictionary (to map new field names)\n",
    "    if \"blm\" in trt_copy.lower():\n",
    "        field_mapping = field_mapping_blm\n",
    "    elif \"blodgett\" in trt_copy.lower():\n",
    "        field_mapping = field_mapping_blodgett\n",
    "    elif \"cal_fire_all_thp\" in trt_copy.lower():\n",
    "        field_mapping = field_mapping_cf_thp\n",
    "    elif \"cal_fire_rx\" in trt_copy.lower():\n",
    "        field_mapping = field_mapping_cf_rx\n",
    "    elif \"facts_haz\" in trt_copy.lower():\n",
    "        field_mapping = field_mapping_facts_hf\n",
    "    elif \"facts_timber\" in trt_copy.lower():\n",
    "        field_mapping = field_mapping_facts_th\n",
    "    elif \"its\" in trt_copy.lower():\n",
    "        field_mapping = field_mapping_its\n",
    "    elif \"nps\" in trt_copy.lower():\n",
    "        field_mapping = field_mapping_nps\n",
    "    else:\n",
    "        print('Continue')\n",
    "    \n",
    "    # delete these field names if they already exist\n",
    "    arcpy.management.DeleteField(trt_copy, ['Name','Category','Code'], 'DELETE_FIELDS')\n",
    "        \n",
    "    # rename fields (using field_mapping dictionary)\n",
    "    print('Rename fields')\n",
    "\n",
    "    for existing_field, new_field in field_mapping.items():\n",
    "        try:\n",
    "            arcpy.management.AlterField(trt_copy, existing_field, new_field, new_field)\n",
    "            print(f\"Field '{existing_field}' altered to '{new_field}'\")\n",
    "        except arcpy.ExecuteError:\n",
    "            print(f\"Field '{existing_field}' does not exist in the feature class.\")\n",
    "\n",
    "    # add fields\n",
    "    if not arcpy.ListFields(trt_copy, 'Name'):\n",
    "        arcpy.management.AddField(trt_copy, 'Name', 'TEXT')\n",
    "        \n",
    "    if not arcpy.ListFields(trt_copy, 'Category'):\n",
    "        arcpy.management.AddField(trt_copy, 'Category', 'TEXT')\n",
    "    \n",
    "    if not arcpy.ListFields(trt_copy, 'Code'):\n",
    "        arcpy.management.AddField(trt_copy, 'Code', 'TEXT')\n",
    "        \n",
    "    # keep relevant fields\n",
    "    print('Delete fields')\n",
    "    if \"its\" in trt_copy.lower():\n",
    "        arcpy.management.DeleteField(trt_copy, [ 'Name', 'Category', 'Code', 'Year', 'UCB_TREATM', 'LATITUDE', 'LONGITUDE'], 'KEEP_FIELDS')\n",
    "    else:\n",
    "        arcpy.management.DeleteField(trt_copy, [ 'Name', 'Category', 'Code', 'Year', 'UCB_TREATM'], 'KEEP_FIELDS')\n",
    "\n",
    "    # calculate acres\n",
    "    print('Calculate acres')\n",
    "    arcpy.management.CalculateGeometryAttributes(trt_copy, \"US_SURV_AC AREA\", \"\", \"ACRES_US\", sr_ref)\n",
    "    print('\\n')"
   ]
  },
  {
   "cell_type": "code",
   "execution_count": 58,
   "metadata": {
    "hidden": true
   },
   "outputs": [],
   "source": [
    "# load new clean datasets\n",
    "trt_blm = ws + '\\\\BLM_Treatments_SoS_2011_2023'\n",
    "trt_blodgett = ws + '\\\\Blodgett_Treatments_SoS_FINAL'\n",
    "trt_cf_thp = ws + '\\\\CAL_FIRE_All_THPs_SoS_FINAL'\n",
    "trt_cf_rx = ws + '\\\\CAL_FIRE_Rx_SoS_FINAL'\n",
    "trt_facts_hf = ws + '\\\\FACTS_HazFuel_clean_SoS_FINAL'\n",
    "trt_facts_th = ws + '\\\\FACTS_TimberHarvest_cleanSoS_FINAL'\n",
    "trt_its = ws + '\\\\ITS_CNRA_Other_Treatments_SoS_FINAL'\n",
    "trt_nps = ws + '\\\\NPS_Treatments_2001_2022_SoS_FINAL'\n",
    "trt_list = [trt_blm, trt_blodgett, trt_cf_thp, trt_cf_rx, trt_facts_hf, trt_facts_th, trt_its, trt_nps]"
   ]
  },
  {
   "cell_type": "code",
   "execution_count": 35,
   "metadata": {
    "hidden": true
   },
   "outputs": [
    {
     "data": {
      "text/html": [
       "<div class='gpresult'><h2>Messages</h2><div id='messages' data-messages='[\"Start Time: Tuesday, May 14, 2024 7:03:55 AM\",\"Succeeded at Tuesday, May 14, 2024 7:04:00 AM (Elapsed Time: 4.62 seconds)\"]' data-show='true'><div id = 'default' /></div></div>"
      ],
      "text/plain": [
       "<Result 'N:\\\\Sierra_Nevada\\\\Projects\\\\State of the Sierra\\\\State of the Sierra\\\\SOS_cs.gdb\\\\CAL_FIRE_Rx_SoS_FINAL'>"
      ]
     },
     "execution_count": 35,
     "metadata": {},
     "output_type": "execute_result"
    }
   ],
   "source": [
    "# for cal fire rx only\n",
    "# fill in treatment type with \"Prescribed burn\"\n",
    "arcpy.management.CalculateField(trt_cf_rx, 'Name', '\"Prescribed Burn\"', 'PYTHON3', \"\", 'TEXT')\n"
   ]
  },
  {
   "cell_type": "markdown",
   "metadata": {
    "heading_collapsed": true
   },
   "source": [
    "## ITS treatments - remove duplicates"
   ]
  },
  {
   "cell_type": "code",
   "execution_count": 59,
   "metadata": {
    "hidden": true
   },
   "outputs": [
    {
     "data": {
      "text/html": [
       "<div class='gpresult'><h2>Messages</h2><div id='messages' data-messages='[\"Start Time: Tuesday, May 14, 2024 7:14:38 AM\",\"Succeeded at Tuesday, May 14, 2024 7:14:44 AM (Elapsed Time: 6.82 seconds)\"]' data-show='true'><div id = 'default' /></div></div>"
      ],
      "text/plain": [
       "<Result 'N:\\\\Sierra_Nevada\\\\Projects\\\\State of the Sierra\\\\State of the Sierra\\\\SOS_cs.gdb\\\\ITS_CNRA_Other_Treatments_SoS_copy'>"
      ]
     },
     "execution_count": 59,
     "metadata": {},
     "output_type": "execute_result"
    }
   ],
   "source": [
    "# copy feature class\n",
    "trt_its_copy = ws + '\\\\ITS_CNRA_Other_Treatments_SoS_copy'\n",
    "arcpy.management.CopyFeatures(trt_its, trt_its_copy)"
   ]
  },
  {
   "cell_type": "code",
   "execution_count": 60,
   "metadata": {
    "hidden": true
   },
   "outputs": [
    {
     "data": {
      "text/html": [
       "<div class='gpresult'><h2>Messages</h2><div id='messages' data-messages='[\"Start Time: Tuesday, May 14, 2024 7:16:19 AM\",\"Adding AC_RND4 to ITS_CNRA_Other_Treatments_SoS_copy...\",\"Succeeded at Tuesday, May 14, 2024 7:16:25 AM (Elapsed Time: 6.22 seconds)\"]' data-show='true'><div id = 'default' /></div></div>"
      ],
      "text/plain": [
       "<Result 'N:\\\\Sierra_Nevada\\\\Projects\\\\State of the Sierra\\\\State of the Sierra\\\\SOS_cs.gdb\\\\ITS_CNRA_Other_Treatments_SoS_copy'>"
      ]
     },
     "execution_count": 60,
     "metadata": {},
     "output_type": "execute_result"
    }
   ],
   "source": [
    "# load input\n",
    "inFeatures = trt_its_copy\n",
    "\n",
    "# add fields - calculate area\n",
    "arcpy.management.CalculateGeometryAttributes(inFeatures, \"GIS_ACRES AREA\", \"\", \"ACRES\")\n",
    "\n",
    "# round acres, lat, lon to 4 decimals\n",
    "arcpy.management.CalculateField(inFeatures, 'LAT_RND4', \"round(!LATITUDE!,4)\", \"PYTHON3\")\n",
    "arcpy.management.CalculateField(inFeatures, 'LON_RND4', \"round(!LONGITUDE!,4)\", \"PYTHON3\")\n",
    "arcpy.management.CalculateField(inFeatures, 'AC_RND4', \"round(!US_SURV_AC!,4)\", \"PYTHON3\")\n"
   ]
  },
  {
   "cell_type": "code",
   "execution_count": 72,
   "metadata": {
    "hidden": true
   },
   "outputs": [
    {
     "data": {
      "text/html": [
       "<div class='gpresult'><h2>Messages</h2><div id='messages' data-messages='[\"Start Time: Tuesday, May 14, 2024 7:42:13 AM\",\"4 duplicate(s) in 2 group(s) found.\",\"Succeeded at Tuesday, May 14, 2024 7:42:20 AM (Elapsed Time: 7.44 seconds)\"]' data-show='true'><div id = 'default' /></div></div>"
      ],
      "text/plain": [
       "<Result 'N:\\\\Sierra_Nevada\\\\Projects\\\\State of the Sierra\\\\State of the Sierra\\\\SOS_cs.gdb\\\\ITS_CNRA_Other_Treatments_SoS_findIdentical'>"
      ]
     },
     "execution_count": 72,
     "metadata": {},
     "output_type": "execute_result"
    }
   ],
   "source": [
    "# find identical polygons (identical based on fields: treatment type, year, rounded acres, rounded lat, rounded lon)\n",
    "fields = ['Name', 'Category', 'UCB_TREATM', 'Year', 'AC_RND4','LAT_RND4','LON_RND4']\n",
    "out_dataset = ws + '\\\\ITS_CNRA_Other_Treatments_SoS_findIdentical'\n",
    "arcpy.management.FindIdentical(trt_its_copy, out_dataset, fields, \"\", \"\", \"ONLY_DUPLICATES\")"
   ]
  },
  {
   "cell_type": "code",
   "execution_count": 76,
   "metadata": {
    "hidden": true
   },
   "outputs": [
    {
     "name": "stdout",
     "output_type": "stream",
     "text": [
      "[97, 188, 98, 189, 99, 190, 100, 191, 101, 192, 102, 193, 103, 194, 104, 195, 105, 196, 106, 197, 107, 198, 108, 199, 2603, 2665, 2605, 2668, 2610, 2672, 2611, 2673, 2612, 2674, 2613, 2675]\n"
     ]
    }
   ],
   "source": [
    "# get list of OBJECTIDs of identical polygons to review outputs \n",
    "out_dataset = ws + '\\\\ITS_CNRA_Other_Treatments_SoS_sp_findIdentical'\n",
    "fieldname = r'IN_FID'\n",
    "\n",
    "# Create an empty list\n",
    "value_list = []\n",
    "\n",
    "# Iterate through the field values and append to the list\n",
    "with arcpy.da.SearchCursor(out_dataset, [fieldname]) as cursor:\n",
    "    for row in cursor:\n",
    "        value_list.append(row[0])\n",
    "\n",
    "print(value_list)"
   ]
  },
  {
   "cell_type": "code",
   "execution_count": null,
   "metadata": {
    "hidden": true
   },
   "outputs": [],
   "source": [
    "# review outputs \n",
    "# identical polygons = OBJECTID: 21 / 37 "
   ]
  },
  {
   "cell_type": "code",
   "execution_count": 77,
   "metadata": {
    "hidden": true
   },
   "outputs": [],
   "source": [
    "# delete select polygons - user defined list\n",
    "\n",
    "# Create a list of OBJECTIDs to delete\n",
    "objectid_list = [37]\n",
    "\n",
    "# Delete polygons with matching OBJECTIDs\n",
    "with arcpy.da.UpdateCursor(trt_its_copy, 'OBJECTID') as cursor:\n",
    "    for row in cursor:\n",
    "        if row[0] in objectid_list:\n",
    "            cursor.deleteRow()"
   ]
  },
  {
   "cell_type": "code",
   "execution_count": 78,
   "metadata": {
    "hidden": true
   },
   "outputs": [
    {
     "data": {
      "text/html": [
       "<div class='gpresult'><h2>Messages</h2><div id='messages' data-messages='[\"Start Time: Tuesday, May 14, 2024 8:17:05 AM\",\"Succeeded at Tuesday, May 14, 2024 8:17:13 AM (Elapsed Time: 7.95 seconds)\"]' data-show='true'><div id = 'default' /></div></div>"
      ],
      "text/plain": [
       "<Result 'N:\\\\Sierra_Nevada\\\\Projects\\\\State of the Sierra\\\\State of the Sierra\\\\SOS_cs.gdb\\\\ITS_CNRA_Other_Treatments_SoS_sp'>"
      ]
     },
     "execution_count": 78,
     "metadata": {},
     "output_type": "execute_result"
    }
   ],
   "source": [
    "# split apart multipart to singlepart polygons\n",
    "# to remove same treatments that are sometimes combined into one multi-part polygon\n",
    "outFeatures = ws + '\\\\ITS_CNRA_Other_Treatments_SoS_sp'\n",
    "arcpy.management.MultipartToSinglepart(trt_its_copy, outFeatures)"
   ]
  },
  {
   "cell_type": "code",
   "execution_count": 79,
   "metadata": {
    "hidden": true
   },
   "outputs": [
    {
     "data": {
      "text/html": [
       "<div class='gpresult'><h2>Messages</h2><div id='messages' data-messages='[\"Start Time: Tuesday, May 14, 2024 8:17:41 AM\",\"Succeeded at Tuesday, May 14, 2024 8:17:53 AM (Elapsed Time: 11.83 seconds)\"]' data-show='true'><div id = 'default' /></div></div>"
      ],
      "text/plain": [
       "<Result 'N:\\\\Sierra_Nevada\\\\Projects\\\\State of the Sierra\\\\State of the Sierra\\\\SOS_cs.gdb\\\\ITS_CNRA_Other_Treatments_SoS_sp'>"
      ]
     },
     "execution_count": 79,
     "metadata": {},
     "output_type": "execute_result"
    }
   ],
   "source": [
    "# calculate geometries for single part polygons (area, lat, lon)\n",
    "arcpy.management.CalculateGeometryAttributes(outFeatures, \"GIS_ACRES_2 AREA\", \"\", \"ACRES\", \"\", \"SAME_AS_INPUT\")\n",
    "arcpy.management.CalculateGeometryAttributes(outFeatures, \"GIS_LAT CENTROID_Y\", \"\", \"\", \"\", \"DD\")\n",
    "arcpy.management.CalculateGeometryAttributes(outFeatures, \"GIS_LON CENTROID_X\", \"\", \"\", \"\", \"DD\")\n"
   ]
  },
  {
   "cell_type": "code",
   "execution_count": 80,
   "metadata": {
    "hidden": true
   },
   "outputs": [
    {
     "data": {
      "text/html": [
       "<div class='gpresult'><h2>Messages</h2><div id='messages' data-messages='[\"Start Time: Tuesday, May 14, 2024 8:18:13 AM\",\"12 duplicate(s) in 6 group(s) found.\",\"Succeeded at Tuesday, May 14, 2024 8:18:20 AM (Elapsed Time: 7.15 seconds)\"]' data-show='true'><div id = 'default' /></div></div>"
      ],
      "text/plain": [
       "<Result 'N:\\\\Sierra_Nevada\\\\Projects\\\\State of the Sierra\\\\State of the Sierra\\\\SOS_cs.gdb\\\\ITS_CNRA_Other_Treatments_SoS_sp_findIdentical'>"
      ]
     },
     "execution_count": 80,
     "metadata": {},
     "output_type": "execute_result"
    }
   ],
   "source": [
    "# find identical polygons in singlepart dataset (identical based on fields: treatment type, year, rounded acres, rounded lat, rounded lon)\n",
    "fields = ['Name', 'Category', 'UCB_TREATM', 'Year', 'GIS_ACRES_2','GIS_LAT','GIS_LON']\n",
    "in_dataset = ws + '\\\\ITS_CNRA_Other_Treatments_SoS_sp'\n",
    "out_dataset = ws + '\\\\ITS_CNRA_Other_Treatments_SoS_sp_findIdentical'\n",
    "arcpy.management.FindIdentical(in_dataset, out_dataset, fields, \"\", \"\", \"ONLY_DUPLICATES\")\n",
    "\n",
    "# review outputs - delete all"
   ]
  },
  {
   "cell_type": "code",
   "execution_count": 81,
   "metadata": {
    "hidden": true
   },
   "outputs": [
    {
     "data": {
      "text/html": [
       "<div class='gpresult'><h2>Messages</h2><div id='messages' data-messages='[\"Start Time: Tuesday, May 14, 2024 8:19:57 AM\",\"6 duplicate(s) from 6 group(s) deleted.\",\"Succeeded at Tuesday, May 14, 2024 8:20:02 AM (Elapsed Time: 4.73 seconds)\"]' data-show='true'><div id = 'default' /></div></div>"
      ],
      "text/plain": [
       "<Result 'N:\\\\Sierra_Nevada\\\\Projects\\\\State of the Sierra\\\\State of the Sierra\\\\SOS_cs.gdb\\\\ITS_CNRA_Other_Treatments_SoS_sp'>"
      ]
     },
     "execution_count": 81,
     "metadata": {},
     "output_type": "execute_result"
    }
   ],
   "source": [
    "# delete identical polygons\n",
    "fields = ['Name','Category','UCB_TREATM','Year','GIS_ACRES_2','GIS_LAT','GIS_LON']\n",
    "outFeatures = ws + '\\\\ITS_CNRA_Other_Treatments_SoS_sp'\n",
    "arcpy.management.DeleteIdentical(outFeatures, fields)\n"
   ]
  },
  {
   "cell_type": "code",
   "execution_count": 83,
   "metadata": {
    "hidden": true
   },
   "outputs": [
    {
     "data": {
      "text/html": [
       "<div class='gpresult'><h2>Messages</h2><div id='messages' data-messages='[\"Start Time: Tuesday, May 14, 2024 8:30:01 AM\",\"Succeeded at Tuesday, May 14, 2024 8:30:14 AM (Elapsed Time: 13.16 seconds)\"]' data-show='true'><div id = 'default' /></div></div>"
      ],
      "text/plain": [
       "<Result 'N:\\\\Sierra_Nevada\\\\Projects\\\\State of the Sierra\\\\State of the Sierra\\\\SOS_cs.gdb\\\\ITS_CNRA_Other_Treatments_SoS_sp'>"
      ]
     },
     "execution_count": 83,
     "metadata": {},
     "output_type": "execute_result"
    }
   ],
   "source": [
    "# delete fields\n",
    "in_features = ws + '\\\\ITS_CNRA_Other_Treatments_SoS_sp'\n",
    "arcpy.management.DeleteField(in_features, [ 'Name', 'Category', 'Code', 'Year', 'UCB_TREATM'], 'KEEP_FIELDS')\n"
   ]
  },
  {
   "cell_type": "code",
   "execution_count": 84,
   "metadata": {
    "hidden": true
   },
   "outputs": [],
   "source": [
    "# load new clean datasets\n",
    "trt_its = ws + '\\\\ITS_CNRA_Other_Treatments_SoS_sp'\n",
    "trt_list = [trt_blm, trt_blodgett, trt_cf_thp, trt_cf_rx, trt_facts_hf, trt_facts_th, trt_its, trt_nps]"
   ]
  },
  {
   "cell_type": "markdown",
   "metadata": {},
   "source": [
    "## combine treatment data"
   ]
  },
  {
   "cell_type": "markdown",
   "metadata": {},
   "source": [
    "### v1 - without calfire"
   ]
  },
  {
   "cell_type": "code",
   "execution_count": 95,
   "metadata": {},
   "outputs": [],
   "source": [
    "# create treatment list without calfire datasets\n",
    "trt_list_noCF = [item for item in trt_list if \"CAL_FIRE\" not in item]"
   ]
  },
  {
   "cell_type": "code",
   "execution_count": 97,
   "metadata": {},
   "outputs": [
    {
     "data": {
      "text/html": [
       "<div class='gpresult'><h2>Messages</h2><div id='messages' data-messages='[\"Start Time: Tuesday, May 14, 2024 10:21:54 AM\",\"Succeeded at Tuesday, May 14, 2024 10:22:19 AM (Elapsed Time: 25.16 seconds)\"]' data-show='true'><div id = 'default' /></div></div>"
      ],
      "text/plain": [
       "<Result 'N:\\\\Sierra_Nevada\\\\Projects\\\\State of the Sierra\\\\State of the Sierra\\\\SOS_cs.gdb\\\\ALL_TREATMENTS_noCF'>"
      ]
     },
     "execution_count": 97,
     "metadata": {},
     "output_type": "execute_result"
    }
   ],
   "source": [
    "# v1 - no calfire data\n",
    "ALL_TREATMENTS_noCF = os.path.join(datagdb, 'ALL_TREATMENTS_noCF')\n",
    "\n",
    "# merge\n",
    "arcpy.management.Merge(trt_list_noCF, ALL_TREATMENTS_noCF, \"\" , 'ADD_SOURCE_INFO')"
   ]
  },
  {
   "cell_type": "markdown",
   "metadata": {},
   "source": [
    "### v2 - with calfire"
   ]
  },
  {
   "cell_type": "code",
   "execution_count": 98,
   "metadata": {},
   "outputs": [
    {
     "data": {
      "text/html": [
       "<div class='gpresult'><h2>Messages</h2><div id='messages' data-messages='[\"Start Time: Tuesday, May 14, 2024 10:22:31 AM\",\"Succeeded at Tuesday, May 14, 2024 10:22:57 AM (Elapsed Time: 25.30 seconds)\"]' data-show='true'><div id = 'default' /></div></div>"
      ],
      "text/plain": [
       "<Result 'N:\\\\Sierra_Nevada\\\\Projects\\\\State of the Sierra\\\\State of the Sierra\\\\SOS_cs.gdb\\\\ALL_TREATMENTS_CF'>"
      ]
     },
     "execution_count": 98,
     "metadata": {},
     "output_type": "execute_result"
    }
   ],
   "source": [
    "# v1 - no calfire data\n",
    "ALL_TREATMENTS_CF = os.path.join(datagdb, 'ALL_TREATMENTS_CF')\n",
    "\n",
    "# merge\n",
    "arcpy.management.Merge(trt_list, ALL_TREATMENTS_CF, \"\" , 'ADD_SOURCE_INFO')"
   ]
  },
  {
   "cell_type": "code",
   "execution_count": null,
   "metadata": {},
   "outputs": [],
   "source": []
  },
  {
   "cell_type": "markdown",
   "metadata": {
    "heading_collapsed": true
   },
   "source": [
    "## annual forest area"
   ]
  },
  {
   "cell_type": "code",
   "execution_count": 89,
   "metadata": {
    "hidden": true
   },
   "outputs": [],
   "source": [
    "# annual forest area - exclude high severity fire from previous year \n",
    "\n",
    "def create_forest_area_by_year_wHiGH():\n",
    "    '''\n",
    "    This function creates a feature class for each year that EXCLUDES high severity area from \n",
    "    previous years but includes high severity from CURRENT year. Uses the merged fire severity layer. \n",
    "    '''\n",
    "\n",
    "    for yr in range(2000, 2023):\n",
    "        sel = arcpy.SelectLayerByAttribute_management(all_sev, 'NEW_SELECTION', \"FIRE_YEAR>'\"+str(1999)+\"' And FIRE_YEAR<'\"+str(yr)+\"' And BURNSEV=4\")\n",
    "        print(f'erasing high severity for years greater than 1999 and less than {yr}')\n",
    "        arcpy.Erase_analysis(Calveg, sel, f'processing_forest_{yr}')\n",
    "        "
   ]
  },
  {
   "cell_type": "code",
   "execution_count": 90,
   "metadata": {
    "collapsed": true,
    "hidden": true
   },
   "outputs": [
    {
     "name": "stdout",
     "output_type": "stream",
     "text": [
      "erasing high severity for years greater than 1999 and less than 2000\n",
      "erasing high severity for years greater than 1999 and less than 2001\n",
      "erasing high severity for years greater than 1999 and less than 2002\n",
      "erasing high severity for years greater than 1999 and less than 2003\n",
      "erasing high severity for years greater than 1999 and less than 2004\n",
      "erasing high severity for years greater than 1999 and less than 2005\n",
      "erasing high severity for years greater than 1999 and less than 2006\n",
      "erasing high severity for years greater than 1999 and less than 2007\n",
      "erasing high severity for years greater than 1999 and less than 2008\n",
      "erasing high severity for years greater than 1999 and less than 2009\n",
      "erasing high severity for years greater than 1999 and less than 2010\n",
      "erasing high severity for years greater than 1999 and less than 2011\n",
      "erasing high severity for years greater than 1999 and less than 2012\n",
      "erasing high severity for years greater than 1999 and less than 2013\n",
      "erasing high severity for years greater than 1999 and less than 2014\n",
      "erasing high severity for years greater than 1999 and less than 2015\n",
      "erasing high severity for years greater than 1999 and less than 2016\n",
      "erasing high severity for years greater than 1999 and less than 2017\n",
      "erasing high severity for years greater than 1999 and less than 2018\n",
      "erasing high severity for years greater than 1999 and less than 2019\n",
      "erasing high severity for years greater than 1999 and less than 2020\n",
      "erasing high severity for years greater than 1999 and less than 2021\n",
      "erasing high severity for years greater than 1999 and less than 2022\n"
     ]
    }
   ],
   "source": [
    "create_forest_area_by_year_wHiGH()"
   ]
  },
  {
   "cell_type": "markdown",
   "metadata": {
    "heading_collapsed": true
   },
   "source": [
    "## separate severity by year"
   ]
  },
  {
   "cell_type": "code",
   "execution_count": 106,
   "metadata": {
    "hidden": true
   },
   "outputs": [],
   "source": [
    "# function to separate treatments by year \n",
    "def separate_severity():\n",
    "    '''This function creates separate severity feature classes for each year. \n",
    "    The new feature classes are saved in the processing.gdb. \n",
    "    '''\n",
    "    \n",
    "    for i in lst_years:\n",
    "        # select by year\n",
    "        sel = arcpy.management.SelectLayerByAttribute(all_sev, 'NEW_SELECTION', \"FIRE_YEAR= '\"+str(i)+\"'\")\n",
    "        arcpy.management.CopyFeatures(sel, os.path.join(datagdb, \"SEVERITY_\" + str(i)))\n",
    "        print (f'finished saving SEVERITY_{i}')"
   ]
  },
  {
   "cell_type": "code",
   "execution_count": 108,
   "metadata": {
    "collapsed": true,
    "hidden": true
   },
   "outputs": [
    {
     "name": "stdout",
     "output_type": "stream",
     "text": [
      "finished saving SEVERITY_2000\n",
      "finished saving SEVERITY_2001\n",
      "finished saving SEVERITY_2002\n",
      "finished saving SEVERITY_2003\n",
      "finished saving SEVERITY_2004\n",
      "finished saving SEVERITY_2005\n",
      "finished saving SEVERITY_2006\n",
      "finished saving SEVERITY_2007\n",
      "finished saving SEVERITY_2008\n",
      "finished saving SEVERITY_2009\n",
      "finished saving SEVERITY_2010\n",
      "finished saving SEVERITY_2011\n",
      "finished saving SEVERITY_2012\n",
      "finished saving SEVERITY_2013\n",
      "finished saving SEVERITY_2014\n",
      "finished saving SEVERITY_2015\n",
      "finished saving SEVERITY_2016\n",
      "finished saving SEVERITY_2017\n",
      "finished saving SEVERITY_2018\n",
      "finished saving SEVERITY_2019\n",
      "finished saving SEVERITY_2020\n",
      "finished saving SEVERITY_2021\n",
      "finished saving SEVERITY_2022\n"
     ]
    }
   ],
   "source": [
    "# run function to separate treatments\n",
    "separate_severity()"
   ]
  },
  {
   "cell_type": "markdown",
   "metadata": {
    "heading_collapsed": true
   },
   "source": [
    "## dissolve cpad"
   ]
  },
  {
   "cell_type": "code",
   "execution_count": 111,
   "metadata": {
    "hidden": true
   },
   "outputs": [
    {
     "data": {
      "text/html": [
       "<div class='gpresult'><h2>Messages</h2><div id='messages' data-messages='[\"Start Time: Tuesday, May 14, 2024 4:14:01 PM\",\"Sorting Attributes...\",\"Dissolving...\",\"Succeeded at Tuesday, May 14, 2024 4:15:03 PM (Elapsed Time: 1 minutes 2 seconds)\"]' data-show='true'><div id = 'default' /></div></div>"
      ],
      "text/plain": [
       "<Result 'N:\\\\Sierra_Nevada\\\\Projects\\\\State of the Sierra\\\\Inputs_Final_20240510\\\\Holdings_CA_NV_dissolve_20240513.shp'>"
      ]
     },
     "execution_count": 111,
     "metadata": {},
     "output_type": "execute_result"
    }
   ],
   "source": [
    "cpad_dis = r'N:\\Sierra_Nevada\\Projects\\State of the Sierra\\Inputs_Final_20240510\\Holdings_CA_NV_dissolve_20240513.shp'\n",
    "arcpy.management.Dissolve(cpad, cpad_dis, 'FTE_Type')"
   ]
  },
  {
   "cell_type": "markdown",
   "metadata": {
    "heading_collapsed": true
   },
   "source": [
    "## intersect forest-treaments-severity-cpad for final results"
   ]
  },
  {
   "cell_type": "markdown",
   "metadata": {
    "heading_collapsed": true,
    "hidden": true
   },
   "source": [
    "### v1 - without cal fire treatments"
   ]
  },
  {
   "cell_type": "code",
   "execution_count": 102,
   "metadata": {
    "hidden": true
   },
   "outputs": [],
   "source": [
    "# function to separate treatments by year \n",
    "def separate_treatment():\n",
    "    '''This function creates separate treatment feature classes for each year. \n",
    "    The new feature classes are saved in the processing.gdb. \n",
    "    '''\n",
    "    \n",
    "    for yr in lst_years:\n",
    "        # select by year\n",
    "        sel = arcpy.management.SelectLayerByAttribute(ALL_TREATMENTS_noCF, 'NEW_SELECTION', f\" Year = {yr} \")\n",
    "        arcpy.management.CopyFeatures(sel, f'tr{yr}')\n",
    "        arcpy.management.RepairGeometry(f'tr{yr}', 'DELETE_NULL', \"ESRI\")\n",
    "        \n",
    "        # dissolve by crosswalked treatment type\n",
    "        arcpy.management.Dissolve(f'tr{yr}', os.path.join(ws, f'treatment{yr}_noCF'), 'UCB_TREATM', '', 'MULTI_PART', 'DISSOLVE_LINES')\n",
    "        print(f'finished saving treatment{yr}')\n",
    " "
   ]
  },
  {
   "cell_type": "code",
   "execution_count": 103,
   "metadata": {
    "collapsed": true,
    "hidden": true
   },
   "outputs": [
    {
     "name": "stdout",
     "output_type": "stream",
     "text": [
      "finished saving treatment2000\n",
      "finished saving treatment2001\n",
      "finished saving treatment2002\n",
      "finished saving treatment2003\n",
      "finished saving treatment2004\n",
      "finished saving treatment2005\n",
      "finished saving treatment2006\n",
      "finished saving treatment2007\n",
      "finished saving treatment2008\n",
      "finished saving treatment2009\n",
      "finished saving treatment2010\n",
      "finished saving treatment2011\n",
      "finished saving treatment2012\n",
      "finished saving treatment2013\n",
      "finished saving treatment2014\n",
      "finished saving treatment2015\n",
      "finished saving treatment2016\n",
      "finished saving treatment2017\n",
      "finished saving treatment2018\n",
      "finished saving treatment2019\n",
      "finished saving treatment2020\n",
      "finished saving treatment2021\n",
      "finished saving treatment2022\n"
     ]
    }
   ],
   "source": [
    "# run function to separate treatments\n",
    "separate_treatment()"
   ]
  },
  {
   "cell_type": "code",
   "execution_count": 109,
   "metadata": {
    "hidden": true
   },
   "outputs": [],
   "source": [
    "# function to intersect (1) annual forest (with HS removed, called \"processing_forest_yr\") + severity + cpad + treatment \n",
    "\n",
    "def assign_severity_treatment_fte_by_year():  \n",
    "    '''\n",
    "    This function performs 3 consecutive identity analyses that result in an output\n",
    "    of the spatial intersections of the cpad, severity, and treatment layers\n",
    "    '''\n",
    "    #do extract by mask on each year, write output fc to memory\n",
    "    arcpy.env.workspace = ws\n",
    "    \n",
    "    for i in lst_years:\n",
    "        print ('severity identity for' + str(i))\n",
    "        sevs = os.path.join(datagdb, \"SEVERITY_\" + str(i) )\n",
    "        outpts = os.path.join(scratch, \"assigned_severity_noCF_\" + str(i))\n",
    "        arcpy.analysis.Identity(f'processing_forest_{i}', sevs, outpts)\n",
    "        print(f'then assigning cpad to {i}')\n",
    "        arcpy.analysis.Identity(outpts, cpad_dis, os.path.join(scratch, f\"assigned_severity_fte_noCF_{i}\"))\n",
    "        \n",
    "        print(f'finally assigned treatment to {i}')\n",
    "        arcpy.analysis.Identity(os.path.join(scratch, f\"assigned_severity_fte_noCF_{i}\"), f'treatment{i}_noCF', f'values_noCF_{i}')\n",
    "        \n",
    "        \n",
    "        "
   ]
  },
  {
   "cell_type": "code",
   "execution_count": 110,
   "metadata": {
    "collapsed": true,
    "hidden": true
   },
   "outputs": [
    {
     "name": "stdout",
     "output_type": "stream",
     "text": [
      "These functions assigns attributes based on spatial intersections using the queried forest raster with high severity for each year\n",
      "severity identity for2000\n",
      "then assigning cpad to 2000\n",
      "finally assigned treatment to 2000\n",
      "severity identity for2001\n",
      "then assigning cpad to 2001\n",
      "finally assigned treatment to 2001\n",
      "severity identity for2002\n",
      "then assigning cpad to 2002\n",
      "finally assigned treatment to 2002\n",
      "severity identity for2003\n",
      "then assigning cpad to 2003\n",
      "finally assigned treatment to 2003\n",
      "severity identity for2004\n",
      "then assigning cpad to 2004\n",
      "finally assigned treatment to 2004\n",
      "severity identity for2005\n",
      "then assigning cpad to 2005\n",
      "finally assigned treatment to 2005\n",
      "severity identity for2006\n",
      "then assigning cpad to 2006\n",
      "finally assigned treatment to 2006\n",
      "severity identity for2007\n",
      "then assigning cpad to 2007\n",
      "finally assigned treatment to 2007\n",
      "severity identity for2008\n",
      "then assigning cpad to 2008\n",
      "finally assigned treatment to 2008\n",
      "severity identity for2009\n",
      "then assigning cpad to 2009\n",
      "finally assigned treatment to 2009\n",
      "severity identity for2010\n",
      "then assigning cpad to 2010\n",
      "finally assigned treatment to 2010\n",
      "severity identity for2011\n",
      "then assigning cpad to 2011\n",
      "finally assigned treatment to 2011\n",
      "severity identity for2012\n",
      "then assigning cpad to 2012\n",
      "finally assigned treatment to 2012\n",
      "severity identity for2013\n",
      "then assigning cpad to 2013\n",
      "finally assigned treatment to 2013\n",
      "severity identity for2014\n",
      "then assigning cpad to 2014\n",
      "finally assigned treatment to 2014\n",
      "severity identity for2015\n",
      "then assigning cpad to 2015\n",
      "finally assigned treatment to 2015\n",
      "severity identity for2016\n",
      "then assigning cpad to 2016\n",
      "finally assigned treatment to 2016\n",
      "severity identity for2017\n",
      "then assigning cpad to 2017\n",
      "finally assigned treatment to 2017\n",
      "severity identity for2018\n",
      "then assigning cpad to 2018\n",
      "finally assigned treatment to 2018\n",
      "severity identity for2019\n",
      "then assigning cpad to 2019\n",
      "finally assigned treatment to 2019\n",
      "severity identity for2020\n",
      "then assigning cpad to 2020\n",
      "finally assigned treatment to 2020\n",
      "severity identity for2021\n",
      "then assigning cpad to 2021\n",
      "finally assigned treatment to 2021\n",
      "severity identity for2022\n",
      "then assigning cpad to 2022\n",
      "finally assigned treatment to 2022\n"
     ]
    }
   ],
   "source": [
    "# run function \n",
    "print('These functions assigns attributes based on spatial intersections using the queried forest raster with high severity for each year')\n",
    "assign_severity_treatment_fte_by_year()"
   ]
  },
  {
   "cell_type": "code",
   "execution_count": 122,
   "metadata": {
    "hidden": true
   },
   "outputs": [],
   "source": [
    "# combine all results into one table\n",
    "\n",
    "tables_folder = r'N:\\Sierra_Nevada\\Projects\\State of the Sierra\\State of the Sierra\\TNC_tables_polygon\\noCF'\n",
    "\n",
    "def create_df_by_year():\n",
    "    '''\n",
    "    This function creates a dataframe from the output of the spatial intersections of \n",
    "    the cpad, severity, and treatment layers, then cleans the dataframe so that it has no blank cells. \n",
    "    It also replaces values codes with text descriptions for severity. \n",
    "    '''\n",
    "    \n",
    "    lst_dfs = []\n",
    "    for i in lst_years:\n",
    "        print ('reading data from fc for ' + str(i))\n",
    "        \n",
    "        # change input name for CF / yes CF \n",
    "        df = pd.DataFrame([[j[0], j[1], j[2], j[3]] for j in arcpy.da.SearchCursor(f'values_noCF_{i}', ['FTE_Type', 'SevClass','UCB_TREATM', 'Shape_Area'])])  #shape area, ...not point id..\n",
    "        \n",
    "        df.columns = ['FTE','SEVERITY','Treatment', 'Shape_Area']\n",
    "        df['Acres'] = df['Shape_Area']*0.0002471054\n",
    "        df = df[['FTE','SEVERITY', 'Treatment', 'Acres']]\n",
    "        \n",
    "        #filling empty cells\n",
    "        print('replacing blank cells with No Treatment')\n",
    "        df['Treatment'] = df['Treatment'].replace(\"\", 'No Treatment')\n",
    "        print('Removing Nans and replaceing with No Treatment')\n",
    "        df['Treatment'] = df['Treatment'].fillna('No Treatment')\n",
    "        print('replacing blank cells with No FTE LookUp')\n",
    "        df['FTE'] = df['FTE'].replace(\"\", 'No FTE LookUp')\n",
    "        print('Removing Nans and replaceing with No FTE LookUp')\n",
    "        df['FTE']= df['FTE'].fillna('No FTE LookUp')\n",
    "        df['SEVERITY']= df['SEVERITY'].replace(\"\", 'Unburned')\n",
    "        \n",
    "        df.to_csv(os.path.join(tables_folder, f'values_noCF_{i}.csv'), index = False)\n",
    "        \n",
    "        lst_dfs.append(df)\n",
    "    \n",
    "    return lst_dfs"
   ]
  },
  {
   "cell_type": "code",
   "execution_count": 123,
   "metadata": {
    "collapsed": true,
    "hidden": true
   },
   "outputs": [
    {
     "name": "stdout",
     "output_type": "stream",
     "text": [
      "reading data from fc for 2000\n",
      "replacing blank cells with No Treatment\n",
      "Removing Nans and replaceing with No Treatment\n",
      "replacing blank cells with No FTE LookUp\n",
      "Removing Nans and replaceing with No FTE LookUp\n",
      "reading data from fc for 2001\n",
      "replacing blank cells with No Treatment\n",
      "Removing Nans and replaceing with No Treatment\n",
      "replacing blank cells with No FTE LookUp\n",
      "Removing Nans and replaceing with No FTE LookUp\n",
      "reading data from fc for 2002\n",
      "replacing blank cells with No Treatment\n",
      "Removing Nans and replaceing with No Treatment\n",
      "replacing blank cells with No FTE LookUp\n",
      "Removing Nans and replaceing with No FTE LookUp\n",
      "reading data from fc for 2003\n",
      "replacing blank cells with No Treatment\n",
      "Removing Nans and replaceing with No Treatment\n",
      "replacing blank cells with No FTE LookUp\n",
      "Removing Nans and replaceing with No FTE LookUp\n",
      "reading data from fc for 2004\n",
      "replacing blank cells with No Treatment\n",
      "Removing Nans and replaceing with No Treatment\n",
      "replacing blank cells with No FTE LookUp\n",
      "Removing Nans and replaceing with No FTE LookUp\n",
      "reading data from fc for 2005\n",
      "replacing blank cells with No Treatment\n",
      "Removing Nans and replaceing with No Treatment\n",
      "replacing blank cells with No FTE LookUp\n",
      "Removing Nans and replaceing with No FTE LookUp\n",
      "reading data from fc for 2006\n",
      "replacing blank cells with No Treatment\n",
      "Removing Nans and replaceing with No Treatment\n",
      "replacing blank cells with No FTE LookUp\n",
      "Removing Nans and replaceing with No FTE LookUp\n",
      "reading data from fc for 2007\n",
      "replacing blank cells with No Treatment\n",
      "Removing Nans and replaceing with No Treatment\n",
      "replacing blank cells with No FTE LookUp\n",
      "Removing Nans and replaceing with No FTE LookUp\n",
      "reading data from fc for 2008\n",
      "replacing blank cells with No Treatment\n",
      "Removing Nans and replaceing with No Treatment\n",
      "replacing blank cells with No FTE LookUp\n",
      "Removing Nans and replaceing with No FTE LookUp\n",
      "reading data from fc for 2009\n",
      "replacing blank cells with No Treatment\n",
      "Removing Nans and replaceing with No Treatment\n",
      "replacing blank cells with No FTE LookUp\n",
      "Removing Nans and replaceing with No FTE LookUp\n",
      "reading data from fc for 2010\n",
      "replacing blank cells with No Treatment\n",
      "Removing Nans and replaceing with No Treatment\n",
      "replacing blank cells with No FTE LookUp\n",
      "Removing Nans and replaceing with No FTE LookUp\n",
      "reading data from fc for 2011\n",
      "replacing blank cells with No Treatment\n",
      "Removing Nans and replaceing with No Treatment\n",
      "replacing blank cells with No FTE LookUp\n",
      "Removing Nans and replaceing with No FTE LookUp\n",
      "reading data from fc for 2012\n",
      "replacing blank cells with No Treatment\n",
      "Removing Nans and replaceing with No Treatment\n",
      "replacing blank cells with No FTE LookUp\n",
      "Removing Nans and replaceing with No FTE LookUp\n",
      "reading data from fc for 2013\n",
      "replacing blank cells with No Treatment\n",
      "Removing Nans and replaceing with No Treatment\n",
      "replacing blank cells with No FTE LookUp\n",
      "Removing Nans and replaceing with No FTE LookUp\n",
      "reading data from fc for 2014\n",
      "replacing blank cells with No Treatment\n",
      "Removing Nans and replaceing with No Treatment\n",
      "replacing blank cells with No FTE LookUp\n",
      "Removing Nans and replaceing with No FTE LookUp\n",
      "reading data from fc for 2015\n",
      "replacing blank cells with No Treatment\n",
      "Removing Nans and replaceing with No Treatment\n",
      "replacing blank cells with No FTE LookUp\n",
      "Removing Nans and replaceing with No FTE LookUp\n",
      "reading data from fc for 2016\n",
      "replacing blank cells with No Treatment\n",
      "Removing Nans and replaceing with No Treatment\n",
      "replacing blank cells with No FTE LookUp\n",
      "Removing Nans and replaceing with No FTE LookUp\n",
      "reading data from fc for 2017\n",
      "replacing blank cells with No Treatment\n",
      "Removing Nans and replaceing with No Treatment\n",
      "replacing blank cells with No FTE LookUp\n",
      "Removing Nans and replaceing with No FTE LookUp\n",
      "reading data from fc for 2018\n",
      "replacing blank cells with No Treatment\n",
      "Removing Nans and replaceing with No Treatment\n",
      "replacing blank cells with No FTE LookUp\n",
      "Removing Nans and replaceing with No FTE LookUp\n",
      "reading data from fc for 2019\n",
      "replacing blank cells with No Treatment\n",
      "Removing Nans and replaceing with No Treatment\n",
      "replacing blank cells with No FTE LookUp\n",
      "Removing Nans and replaceing with No FTE LookUp\n",
      "reading data from fc for 2020\n",
      "replacing blank cells with No Treatment\n",
      "Removing Nans and replaceing with No Treatment\n",
      "replacing blank cells with No FTE LookUp\n",
      "Removing Nans and replaceing with No FTE LookUp\n",
      "reading data from fc for 2021\n",
      "replacing blank cells with No Treatment\n",
      "Removing Nans and replaceing with No Treatment\n",
      "replacing blank cells with No FTE LookUp\n",
      "Removing Nans and replaceing with No FTE LookUp\n",
      "reading data from fc for 2022\n",
      "replacing blank cells with No Treatment\n",
      "Removing Nans and replaceing with No Treatment\n",
      "replacing blank cells with No FTE LookUp\n",
      "Removing Nans and replaceing with No FTE LookUp\n"
     ]
    }
   ],
   "source": [
    "# run function to combine \n",
    "lst_dfs = create_df_by_year()"
   ]
  },
  {
   "cell_type": "markdown",
   "metadata": {
    "heading_collapsed": true,
    "hidden": true
   },
   "source": [
    "### v2 - with cal fire treatments"
   ]
  },
  {
   "cell_type": "code",
   "execution_count": 116,
   "metadata": {
    "hidden": true
   },
   "outputs": [],
   "source": [
    "def separate_treatment_CF():\n",
    "    '''This function creates separate treatment feature classes for each year. \n",
    "    The new feature classes are saved in the processing.gdb. \n",
    "    '''\n",
    "    \n",
    "    for yr in lst_years:\n",
    "        # select by year\n",
    "        sel = arcpy.management.SelectLayerByAttribute(ALL_TREATMENTS_CF, 'NEW_SELECTION', f\" Year = {yr} \")\n",
    "        arcpy.management.CopyFeatures(sel, f'tr_CF_{yr}')\n",
    "        arcpy.management.RepairGeometry(f'tr_CF_{yr}', 'DELETE_NULL', \"ESRI\")\n",
    "        \n",
    "        # dissolve by crosswalked treatment type\n",
    "        arcpy.management.Dissolve(f'tr_CF_{yr}', os.path.join(ws, f'treatment{yr}_CF'), 'UCB_TREATM', '', 'MULTI_PART', 'DISSOLVE_LINES')\n",
    "        print(f'finished saving treatment{yr}')\n",
    " \n"
   ]
  },
  {
   "cell_type": "code",
   "execution_count": 117,
   "metadata": {
    "collapsed": true,
    "hidden": true
   },
   "outputs": [
    {
     "name": "stdout",
     "output_type": "stream",
     "text": [
      "finished saving treatment2000\n",
      "finished saving treatment2001\n",
      "finished saving treatment2002\n",
      "finished saving treatment2003\n",
      "finished saving treatment2004\n",
      "finished saving treatment2005\n",
      "finished saving treatment2006\n",
      "finished saving treatment2007\n",
      "finished saving treatment2008\n",
      "finished saving treatment2009\n",
      "finished saving treatment2010\n",
      "finished saving treatment2011\n",
      "finished saving treatment2012\n",
      "finished saving treatment2013\n",
      "finished saving treatment2014\n",
      "finished saving treatment2015\n",
      "finished saving treatment2016\n",
      "finished saving treatment2017\n",
      "finished saving treatment2018\n",
      "finished saving treatment2019\n",
      "finished saving treatment2020\n",
      "finished saving treatment2021\n",
      "finished saving treatment2022\n"
     ]
    }
   ],
   "source": [
    "separate_treatment_CF()"
   ]
  },
  {
   "cell_type": "code",
   "execution_count": 118,
   "metadata": {
    "hidden": true
   },
   "outputs": [],
   "source": [
    "# function to intersect (1) annual forest (with HS removed, called \"processing_forest_yr\") + severity + cpad + treatment \n",
    "\n",
    "def assign_severity_treatment_fte_by_year_CF():  \n",
    "    '''\n",
    "    This function performs 3 consecutive identity analyses that result in an output\n",
    "    of the spatial intersections of the cpad, severity, and treatment layers\n",
    "    '''\n",
    "    #do extract by mask on each year, write output fc to memory\n",
    "    arcpy.env.workspace = ws\n",
    "    \n",
    "    for i in lst_years:\n",
    "        print ('severity identity for' + str(i))\n",
    "        sevs = os.path.join(datagdb, \"SEVERITY_\" + str(i) )\n",
    "        outpts = os.path.join(scratch, \"assigned_severity_CF_\" + str(i))\n",
    "        arcpy.analysis.Identity(f'processing_forest_{i}', sevs, outpts)\n",
    "        print(f'then assigning cpad to {i}')\n",
    "        arcpy.analysis.Identity(outpts, cpad_dis, os.path.join(scratch, f\"assigned_severity_fte_CF_{i}\"))\n",
    "        \n",
    "        print(f'finally assigned treatment to {i}')\n",
    "        arcpy.analysis.Identity(os.path.join(scratch, f\"assigned_severity_fte_CF_{i}\"), f'treatment{i}_CF', f'values_CF_{i}')\n",
    "        \n",
    "        \n",
    "        "
   ]
  },
  {
   "cell_type": "code",
   "execution_count": 119,
   "metadata": {
    "collapsed": true,
    "hidden": true
   },
   "outputs": [
    {
     "name": "stdout",
     "output_type": "stream",
     "text": [
      "These functions assigns attributes based on spatial intersections using the queried forest raster with high severity for each year\n",
      "severity identity for2000\n",
      "then assigning cpad to 2000\n",
      "finally assigned treatment to 2000\n",
      "severity identity for2001\n",
      "then assigning cpad to 2001\n",
      "finally assigned treatment to 2001\n",
      "severity identity for2002\n",
      "then assigning cpad to 2002\n",
      "finally assigned treatment to 2002\n",
      "severity identity for2003\n",
      "then assigning cpad to 2003\n",
      "finally assigned treatment to 2003\n",
      "severity identity for2004\n",
      "then assigning cpad to 2004\n",
      "finally assigned treatment to 2004\n",
      "severity identity for2005\n",
      "then assigning cpad to 2005\n",
      "finally assigned treatment to 2005\n",
      "severity identity for2006\n",
      "then assigning cpad to 2006\n",
      "finally assigned treatment to 2006\n",
      "severity identity for2007\n",
      "then assigning cpad to 2007\n",
      "finally assigned treatment to 2007\n",
      "severity identity for2008\n",
      "then assigning cpad to 2008\n",
      "finally assigned treatment to 2008\n",
      "severity identity for2009\n",
      "then assigning cpad to 2009\n",
      "finally assigned treatment to 2009\n",
      "severity identity for2010\n",
      "then assigning cpad to 2010\n",
      "finally assigned treatment to 2010\n",
      "severity identity for2011\n",
      "then assigning cpad to 2011\n",
      "finally assigned treatment to 2011\n",
      "severity identity for2012\n",
      "then assigning cpad to 2012\n",
      "finally assigned treatment to 2012\n",
      "severity identity for2013\n",
      "then assigning cpad to 2013\n",
      "finally assigned treatment to 2013\n",
      "severity identity for2014\n",
      "then assigning cpad to 2014\n",
      "finally assigned treatment to 2014\n",
      "severity identity for2015\n",
      "then assigning cpad to 2015\n",
      "finally assigned treatment to 2015\n",
      "severity identity for2016\n",
      "then assigning cpad to 2016\n",
      "finally assigned treatment to 2016\n",
      "severity identity for2017\n",
      "then assigning cpad to 2017\n",
      "finally assigned treatment to 2017\n",
      "severity identity for2018\n",
      "then assigning cpad to 2018\n",
      "finally assigned treatment to 2018\n",
      "severity identity for2019\n",
      "then assigning cpad to 2019\n",
      "finally assigned treatment to 2019\n",
      "severity identity for2020\n",
      "then assigning cpad to 2020\n",
      "finally assigned treatment to 2020\n",
      "severity identity for2021\n",
      "then assigning cpad to 2021\n",
      "finally assigned treatment to 2021\n",
      "severity identity for2022\n",
      "then assigning cpad to 2022\n",
      "finally assigned treatment to 2022\n"
     ]
    }
   ],
   "source": [
    "print('These functions assigns attributes based on spatial intersections using the queried forest raster with high severity for each year')\n",
    "assign_severity_treatment_fte_by_year_CF()"
   ]
  },
  {
   "cell_type": "code",
   "execution_count": 124,
   "metadata": {
    "hidden": true
   },
   "outputs": [],
   "source": [
    "# combine all results into one table\n",
    "\n",
    "tables_folder = r'N:\\Sierra_Nevada\\Projects\\State of the Sierra\\State of the Sierra\\TNC_tables_polygon\\CF'\n",
    "\n",
    "def create_df_by_year():\n",
    "    '''\n",
    "    This function creates a dataframe from the output of the spatial intersections of \n",
    "    the cpad, severity, and treatment layers, then cleans the dataframe so that it has no blank cells. \n",
    "    It also replaces values codes with text descriptions for severity. \n",
    "    '''\n",
    "    \n",
    "    lst_dfs = []\n",
    "    for i in lst_years:\n",
    "        print ('reading data from fc for ' + str(i))\n",
    "        \n",
    "        # change input name for CF / yes CF \n",
    "        df = pd.DataFrame([[j[0], j[1], j[2], j[3]] for j in arcpy.da.SearchCursor(f'values_CF_{i}', ['FTE_Type', 'SevClass','UCB_TREATM', 'Shape_Area'])])  #shape area, ...not point id..\n",
    "        \n",
    "        df.columns = ['FTE','SEVERITY','Treatment', 'Shape_Area']\n",
    "        df['Acres'] = df['Shape_Area']*0.0002471054\n",
    "        df = df[['FTE','SEVERITY', 'Treatment', 'Acres']]\n",
    "        \n",
    "        #filling empty cells\n",
    "        print('replacing blank cells with No Treatment')\n",
    "        df['Treatment'] = df['Treatment'].replace(\"\", 'No Treatment')\n",
    "        print('Removing Nans and replaceing with No Treatment')\n",
    "        df['Treatment'] = df['Treatment'].fillna('No Treatment')\n",
    "        print('replacing blank cells with No FTE LookUp')\n",
    "        df['FTE'] = df['FTE'].replace(\"\", 'No FTE LookUp')\n",
    "        print('Removing Nans and replaceing with No FTE LookUp')\n",
    "        df['FTE']= df['FTE'].fillna('No FTE LookUp')\n",
    "        df['SEVERITY']= df['SEVERITY'].replace(\"\", 'Unburned')\n",
    "        \n",
    "        df.to_csv(os.path.join(tables_folder, f'values_CF_{i}.csv'), index = False)\n",
    "        \n",
    "        lst_dfs.append(df)\n",
    "    \n",
    "    return lst_dfs"
   ]
  },
  {
   "cell_type": "code",
   "execution_count": 125,
   "metadata": {
    "collapsed": true,
    "hidden": true
   },
   "outputs": [
    {
     "name": "stdout",
     "output_type": "stream",
     "text": [
      "reading data from fc for 2000\n",
      "replacing blank cells with No Treatment\n",
      "Removing Nans and replaceing with No Treatment\n",
      "replacing blank cells with No FTE LookUp\n",
      "Removing Nans and replaceing with No FTE LookUp\n",
      "reading data from fc for 2001\n",
      "replacing blank cells with No Treatment\n",
      "Removing Nans and replaceing with No Treatment\n",
      "replacing blank cells with No FTE LookUp\n",
      "Removing Nans and replaceing with No FTE LookUp\n",
      "reading data from fc for 2002\n",
      "replacing blank cells with No Treatment\n",
      "Removing Nans and replaceing with No Treatment\n",
      "replacing blank cells with No FTE LookUp\n",
      "Removing Nans and replaceing with No FTE LookUp\n",
      "reading data from fc for 2003\n",
      "replacing blank cells with No Treatment\n",
      "Removing Nans and replaceing with No Treatment\n",
      "replacing blank cells with No FTE LookUp\n",
      "Removing Nans and replaceing with No FTE LookUp\n",
      "reading data from fc for 2004\n",
      "replacing blank cells with No Treatment\n",
      "Removing Nans and replaceing with No Treatment\n",
      "replacing blank cells with No FTE LookUp\n",
      "Removing Nans and replaceing with No FTE LookUp\n",
      "reading data from fc for 2005\n",
      "replacing blank cells with No Treatment\n",
      "Removing Nans and replaceing with No Treatment\n",
      "replacing blank cells with No FTE LookUp\n",
      "Removing Nans and replaceing with No FTE LookUp\n",
      "reading data from fc for 2006\n",
      "replacing blank cells with No Treatment\n",
      "Removing Nans and replaceing with No Treatment\n",
      "replacing blank cells with No FTE LookUp\n",
      "Removing Nans and replaceing with No FTE LookUp\n",
      "reading data from fc for 2007\n",
      "replacing blank cells with No Treatment\n",
      "Removing Nans and replaceing with No Treatment\n",
      "replacing blank cells with No FTE LookUp\n",
      "Removing Nans and replaceing with No FTE LookUp\n",
      "reading data from fc for 2008\n",
      "replacing blank cells with No Treatment\n",
      "Removing Nans and replaceing with No Treatment\n",
      "replacing blank cells with No FTE LookUp\n",
      "Removing Nans and replaceing with No FTE LookUp\n",
      "reading data from fc for 2009\n",
      "replacing blank cells with No Treatment\n",
      "Removing Nans and replaceing with No Treatment\n",
      "replacing blank cells with No FTE LookUp\n",
      "Removing Nans and replaceing with No FTE LookUp\n",
      "reading data from fc for 2010\n",
      "replacing blank cells with No Treatment\n",
      "Removing Nans and replaceing with No Treatment\n",
      "replacing blank cells with No FTE LookUp\n",
      "Removing Nans and replaceing with No FTE LookUp\n",
      "reading data from fc for 2011\n",
      "replacing blank cells with No Treatment\n",
      "Removing Nans and replaceing with No Treatment\n",
      "replacing blank cells with No FTE LookUp\n",
      "Removing Nans and replaceing with No FTE LookUp\n",
      "reading data from fc for 2012\n",
      "replacing blank cells with No Treatment\n",
      "Removing Nans and replaceing with No Treatment\n",
      "replacing blank cells with No FTE LookUp\n",
      "Removing Nans and replaceing with No FTE LookUp\n",
      "reading data from fc for 2013\n",
      "replacing blank cells with No Treatment\n",
      "Removing Nans and replaceing with No Treatment\n",
      "replacing blank cells with No FTE LookUp\n",
      "Removing Nans and replaceing with No FTE LookUp\n",
      "reading data from fc for 2014\n",
      "replacing blank cells with No Treatment\n",
      "Removing Nans and replaceing with No Treatment\n",
      "replacing blank cells with No FTE LookUp\n",
      "Removing Nans and replaceing with No FTE LookUp\n",
      "reading data from fc for 2015\n",
      "replacing blank cells with No Treatment\n",
      "Removing Nans and replaceing with No Treatment\n",
      "replacing blank cells with No FTE LookUp\n",
      "Removing Nans and replaceing with No FTE LookUp\n",
      "reading data from fc for 2016\n",
      "replacing blank cells with No Treatment\n",
      "Removing Nans and replaceing with No Treatment\n",
      "replacing blank cells with No FTE LookUp\n",
      "Removing Nans and replaceing with No FTE LookUp\n",
      "reading data from fc for 2017\n",
      "replacing blank cells with No Treatment\n",
      "Removing Nans and replaceing with No Treatment\n",
      "replacing blank cells with No FTE LookUp\n",
      "Removing Nans and replaceing with No FTE LookUp\n",
      "reading data from fc for 2018\n",
      "replacing blank cells with No Treatment\n",
      "Removing Nans and replaceing with No Treatment\n",
      "replacing blank cells with No FTE LookUp\n",
      "Removing Nans and replaceing with No FTE LookUp\n",
      "reading data from fc for 2019\n",
      "replacing blank cells with No Treatment\n",
      "Removing Nans and replaceing with No Treatment\n",
      "replacing blank cells with No FTE LookUp\n",
      "Removing Nans and replaceing with No FTE LookUp\n",
      "reading data from fc for 2020\n",
      "replacing blank cells with No Treatment\n",
      "Removing Nans and replaceing with No Treatment\n",
      "replacing blank cells with No FTE LookUp\n",
      "Removing Nans and replaceing with No FTE LookUp\n",
      "reading data from fc for 2021\n",
      "replacing blank cells with No Treatment\n",
      "Removing Nans and replaceing with No Treatment\n",
      "replacing blank cells with No FTE LookUp\n",
      "Removing Nans and replaceing with No FTE LookUp\n",
      "reading data from fc for 2022\n",
      "replacing blank cells with No Treatment\n",
      "Removing Nans and replaceing with No Treatment\n",
      "replacing blank cells with No FTE LookUp\n",
      "Removing Nans and replaceing with No FTE LookUp\n"
     ]
    }
   ],
   "source": [
    "# run function to combine \n",
    "lst_dfs = create_df_by_year()"
   ]
  },
  {
   "cell_type": "code",
   "execution_count": 15,
   "metadata": {
    "collapsed": true,
    "hidden": true
   },
   "outputs": [
    {
     "name": "stdout",
     "output_type": "stream",
     "text": [
      "reading data from fc for 2000\n",
      "replacing blank cells with No Treatment\n",
      "Removing Nans and replaceing with No Treatment\n",
      "replacing blank cells with No FTE LookUp\n",
      "Removing Nans and replaceing with No FTE LookUp\n",
      "reading data from fc for 2001\n",
      "replacing blank cells with No Treatment\n",
      "Removing Nans and replaceing with No Treatment\n",
      "replacing blank cells with No FTE LookUp\n",
      "Removing Nans and replaceing with No FTE LookUp\n",
      "reading data from fc for 2002\n",
      "replacing blank cells with No Treatment\n",
      "Removing Nans and replaceing with No Treatment\n",
      "replacing blank cells with No FTE LookUp\n",
      "Removing Nans and replaceing with No FTE LookUp\n",
      "reading data from fc for 2003\n",
      "replacing blank cells with No Treatment\n",
      "Removing Nans and replaceing with No Treatment\n",
      "replacing blank cells with No FTE LookUp\n",
      "Removing Nans and replaceing with No FTE LookUp\n",
      "reading data from fc for 2004\n",
      "replacing blank cells with No Treatment\n",
      "Removing Nans and replaceing with No Treatment\n",
      "replacing blank cells with No FTE LookUp\n",
      "Removing Nans and replaceing with No FTE LookUp\n",
      "reading data from fc for 2005\n",
      "replacing blank cells with No Treatment\n",
      "Removing Nans and replaceing with No Treatment\n",
      "replacing blank cells with No FTE LookUp\n",
      "Removing Nans and replaceing with No FTE LookUp\n",
      "reading data from fc for 2006\n",
      "replacing blank cells with No Treatment\n",
      "Removing Nans and replaceing with No Treatment\n",
      "replacing blank cells with No FTE LookUp\n",
      "Removing Nans and replaceing with No FTE LookUp\n",
      "reading data from fc for 2007\n",
      "replacing blank cells with No Treatment\n",
      "Removing Nans and replaceing with No Treatment\n",
      "replacing blank cells with No FTE LookUp\n",
      "Removing Nans and replaceing with No FTE LookUp\n",
      "reading data from fc for 2008\n",
      "replacing blank cells with No Treatment\n",
      "Removing Nans and replaceing with No Treatment\n",
      "replacing blank cells with No FTE LookUp\n",
      "Removing Nans and replaceing with No FTE LookUp\n",
      "reading data from fc for 2009\n",
      "replacing blank cells with No Treatment\n",
      "Removing Nans and replaceing with No Treatment\n",
      "replacing blank cells with No FTE LookUp\n",
      "Removing Nans and replaceing with No FTE LookUp\n",
      "reading data from fc for 2010\n",
      "replacing blank cells with No Treatment\n",
      "Removing Nans and replaceing with No Treatment\n",
      "replacing blank cells with No FTE LookUp\n",
      "Removing Nans and replaceing with No FTE LookUp\n",
      "reading data from fc for 2011\n",
      "replacing blank cells with No Treatment\n",
      "Removing Nans and replaceing with No Treatment\n",
      "replacing blank cells with No FTE LookUp\n",
      "Removing Nans and replaceing with No FTE LookUp\n",
      "reading data from fc for 2012\n",
      "replacing blank cells with No Treatment\n",
      "Removing Nans and replaceing with No Treatment\n",
      "replacing blank cells with No FTE LookUp\n",
      "Removing Nans and replaceing with No FTE LookUp\n",
      "reading data from fc for 2013\n",
      "replacing blank cells with No Treatment\n",
      "Removing Nans and replaceing with No Treatment\n",
      "replacing blank cells with No FTE LookUp\n",
      "Removing Nans and replaceing with No FTE LookUp\n",
      "reading data from fc for 2014\n",
      "replacing blank cells with No Treatment\n",
      "Removing Nans and replaceing with No Treatment\n",
      "replacing blank cells with No FTE LookUp\n",
      "Removing Nans and replaceing with No FTE LookUp\n",
      "reading data from fc for 2015\n",
      "replacing blank cells with No Treatment\n",
      "Removing Nans and replaceing with No Treatment\n",
      "replacing blank cells with No FTE LookUp\n",
      "Removing Nans and replaceing with No FTE LookUp\n",
      "reading data from fc for 2016\n",
      "replacing blank cells with No Treatment\n",
      "Removing Nans and replaceing with No Treatment\n",
      "replacing blank cells with No FTE LookUp\n",
      "Removing Nans and replaceing with No FTE LookUp\n",
      "reading data from fc for 2017\n",
      "replacing blank cells with No Treatment\n",
      "Removing Nans and replaceing with No Treatment\n",
      "replacing blank cells with No FTE LookUp\n",
      "Removing Nans and replaceing with No FTE LookUp\n",
      "reading data from fc for 2018\n",
      "replacing blank cells with No Treatment\n",
      "Removing Nans and replaceing with No Treatment\n",
      "replacing blank cells with No FTE LookUp\n",
      "Removing Nans and replaceing with No FTE LookUp\n",
      "reading data from fc for 2019\n",
      "replacing blank cells with No Treatment\n",
      "Removing Nans and replaceing with No Treatment\n",
      "replacing blank cells with No FTE LookUp\n",
      "Removing Nans and replaceing with No FTE LookUp\n",
      "reading data from fc for 2020\n",
      "replacing blank cells with No Treatment\n",
      "Removing Nans and replaceing with No Treatment\n",
      "replacing blank cells with No FTE LookUp\n",
      "Removing Nans and replaceing with No FTE LookUp\n",
      "reading data from fc for 2021\n",
      "replacing blank cells with No Treatment\n",
      "Removing Nans and replaceing with No Treatment\n",
      "replacing blank cells with No FTE LookUp\n",
      "Removing Nans and replaceing with No FTE LookUp\n"
     ]
    }
   ],
   "source": []
  },
  {
   "cell_type": "code",
   "execution_count": null,
   "metadata": {
    "hidden": true
   },
   "outputs": [],
   "source": []
  },
  {
   "cell_type": "code",
   "execution_count": null,
   "metadata": {
    "hidden": true
   },
   "outputs": [],
   "source": []
  }
 ],
 "metadata": {
  "kernelspec": {
   "display_name": "ArcGISPro",
   "language": "Python",
   "name": "python3"
  },
  "language_info": {
   "file_extension": ".py",
   "name": "python",
   "version": "3"
  }
 },
 "nbformat": 4,
 "nbformat_minor": 2
}
